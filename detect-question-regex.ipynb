{
 "cells": [
  {
   "cell_type": "code",
   "execution_count": 2,
   "metadata": {},
   "outputs": [],
   "source": [
    "import re"
   ]
  },
  {
   "cell_type": "code",
   "execution_count": 5,
   "metadata": {},
   "outputs": [],
   "source": [
    "def find_questions(test_str):\n",
    "        \n",
    "    quest = []\n",
    "    \n",
    "    #find question mark and the complete sentence\n",
    "    regex = r\"(^|(?<=[.?!]))\\s*[A-Za-z,;'\\\"\\s]+\\?\"\n",
    "    matches = re.finditer(regex, test_str, re.IGNORECASE)\n",
    "    for match in matches:\n",
    "        quest.append(match.group())\n",
    "    \n",
    "    #find 5W 1H and the complete sentence\n",
    "    whQue = re.findall(r\"(how|can|what|where|describe|who|when|why)(?i)\", test_str)\n",
    "    for que in whQue:\n",
    "        regex = r\"[^.?!]*(?<=[.?\\s!])\"+que+\"(?=[\\s.?!])[^.?!]*[.?!]\"\n",
    "        test_str = \".\" + test_str + \".\"\n",
    "        result = re.findall(regex, test_str)\n",
    "        quest = quest+result\n",
    "    return set(quest)\n",
    "\n",
    "question = []\n",
    "\n",
    "#######Change the range and test_str here\n",
    "\n",
    "for data in range(1):\n",
    "    test_str = \"is this a string? what are you doing bro. how the hell did you do this? what is this\"\n",
    "    ques = find_questions(test_str)\n",
    "    if ques != set():\n",
    "        question.append(ques)"
   ]
  },
  {
   "cell_type": "code",
   "execution_count": 6,
   "metadata": {},
   "outputs": [
    {
     "data": {
      "text/plain": [
       "[{' how the hell did you do this?',\n",
       "  ' what are you doing bro.',\n",
       "  ' what is this.',\n",
       "  'is this a string?'}]"
      ]
     },
     "execution_count": 6,
     "metadata": {},
     "output_type": "execute_result"
    }
   ],
   "source": [
    "question"
   ]
  }
 ],
 "metadata": {
  "kernelspec": {
   "display_name": "venv",
   "language": "python",
   "name": "venv"
  },
  "language_info": {
   "codemirror_mode": {
    "name": "ipython",
    "version": 3
   },
   "file_extension": ".py",
   "mimetype": "text/x-python",
   "name": "python",
   "nbconvert_exporter": "python",
   "pygments_lexer": "ipython3",
   "version": "3.6.8"
  }
 },
 "nbformat": 4,
 "nbformat_minor": 2
}
